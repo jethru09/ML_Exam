{
 "cells": [
  {
   "cell_type": "markdown",
   "id": "f0e26c08",
   "metadata": {},
   "source": [
    "Q 10"
   ]
  },
  {
   "cell_type": "code",
   "execution_count": 2,
   "id": "60653f13",
   "metadata": {},
   "outputs": [
    {
     "name": "stdout",
     "output_type": "stream",
     "text": [
      "The column with the highest standard deviation is: d\n",
      "The row with the lowest mean is: 18\n"
     ]
    }
   ],
   "source": [
    "import numpy as np\n",
    "import pandas as pd\n",
    "\n",
    "# Generate a 20x5 matrix with random numbers from 1 to 2\n",
    "matrix = np.random.uniform(1, 2, (20, 5))\n",
    "\n",
    "# Create a dataframe from the matrix\n",
    "df = pd.DataFrame(matrix, columns=['a', 'b', 'c', 'd', 'e'])\n",
    "\n",
    "# Find the column with the highest standard deviation\n",
    "std_dev = df.std()\n",
    "highest_std_dev = std_dev.idxmax() # Column with highest standard dev is given\n",
    "\n",
    "# Find the row with the lowest mean\n",
    "mean = df.mean(axis=1)        # axis =1 represents column and axis = 0 or index represent rows\n",
    "lowest_mean = mean.idxmin()   # row with the lowest mean is given\n",
    "\n",
    "print(\"The column with the highest standard deviation is:\", highest_std_dev)\n",
    "print(\"The row with the lowest mean is:\", lowest_mean)\n"
   ]
  },
  {
   "cell_type": "markdown",
   "id": "2c1e965f",
   "metadata": {},
   "source": [
    "Q 11"
   ]
  },
  {
   "cell_type": "code",
   "execution_count": 5,
   "id": "b35b3823",
   "metadata": {},
   "outputs": [
    {
     "name": "stdout",
     "output_type": "stream",
     "text": [
      "Number of rows with value LT8 in the column g: 16\n",
      "Standard deviation of the column f for the rows with value LT8 in the column g: 0.5362016863738015\n",
      "Standard deviation of the column f for the rows with value GT8 in the column g: 0.06822251110405231\n"
     ]
    }
   ],
   "source": [
    "import numpy as np\n",
    "import pandas as pd\n",
    "\n",
    "# Generate a 20x5 matrix with random numbers from 1 to 2\n",
    "matrix = np.random.uniform(1, 2, (20, 5))\n",
    "\n",
    "# Create a dataframe from the matrix\n",
    "df = pd.DataFrame(matrix, columns=['a', 'b', 'c', 'd', 'e'])\n",
    "\n",
    "# Add a new column 'f' which is the sum of all columns\n",
    "df['f'] = df.sum(axis=1)\n",
    "\n",
    "# Create another column 'g' with values LT8, GT8\n",
    "df['g'] = np.where(df['f'] < 8, 'LT8', 'GT8')  # if condition true 1st value LT8 is given else GT8\n",
    "\n",
    "# rows with value 'LT8' in the column 'g'\n",
    "LT8_rows = (df['g'] == 'LT8').sum()\n",
    "\n",
    "# standard deviation of the column 'f' for the rows with values LT8, GT8 in the column g respectively\n",
    "dev_LT8 = df[df['g'] == 'LT8']['f'].std()\n",
    "dev_GT8 = df[df['g'] == 'GT8']['f'].std()\n",
    "\n",
    "print(\"Number of rows with value LT8 in the column g:\", LT8_rows)\n",
    "print(\"Standard deviation of the column f for the rows with value LT8 in the column g:\", dev_LT8)\n",
    "print(\"Standard deviation of the column f for the rows with value GT8 in the column g:\", dev_GT8)\n"
   ]
  },
  {
   "cell_type": "code",
   "execution_count": null,
   "id": "93336222",
   "metadata": {},
   "outputs": [],
   "source": []
  }
 ],
 "metadata": {
  "kernelspec": {
   "display_name": "Python 3 (ipykernel)",
   "language": "python",
   "name": "python3"
  },
  "language_info": {
   "codemirror_mode": {
    "name": "ipython",
    "version": 3
   },
   "file_extension": ".py",
   "mimetype": "text/x-python",
   "name": "python",
   "nbconvert_exporter": "python",
   "pygments_lexer": "ipython3",
   "version": "3.11.5"
  }
 },
 "nbformat": 4,
 "nbformat_minor": 5
}
