{
 "cells": [
  {
   "cell_type": "markdown",
   "id": "5d9b97ba",
   "metadata": {},
   "source": [
    "An array with a smaller shape is expanded to match the shape of a larger one. This is called broadcasting."
   ]
  },
  {
   "cell_type": "code",
   "execution_count": 1,
   "id": "5f138ad4",
   "metadata": {},
   "outputs": [
    {
     "name": "stdout",
     "output_type": "stream",
     "text": [
      "Array a:  [1 2 3]\n",
      "Scalar b:  2\n",
      "Result of a * b:  [2 4 6]\n"
     ]
    }
   ],
   "source": [
    "import numpy as np\n",
    "\n",
    "# Create a 1D array\n",
    "a = np.array([1, 2, 3])\n",
    "\n",
    "# Create a scalar\n",
    "b = 2\n",
    "\n",
    "# Broadcasting allows us to perform arithmetic operations between arrays and scalars\n",
    "c = a * b\n",
    "\n",
    "print(\"Array a: \", a)\n",
    "print(\"Scalar b: \", b)\n",
    "print(\"Result of a * b: \", c)"
   ]
  },
  {
   "cell_type": "code",
   "execution_count": 8,
   "id": "43cec49d",
   "metadata": {},
   "outputs": [
    {
     "name": "stdout",
     "output_type": "stream",
     "text": [
      "[[ 3  4  8]\n",
      " [ 7  8 12]\n",
      " [ 5  6 10]]\n"
     ]
    }
   ],
   "source": [
    "import numpy as np\n",
    "\n",
    "# create 1-D array\n",
    "array1 = np.array([2, 3, 7])\n",
    "\n",
    "# create 2-D array\n",
    "array2 = np.array([[1], [5], [3]])\n",
    "\n",
    "# adding arrays of different dimension\n",
    "# size of array1 expands to match with array2\n",
    "sum = array1 + array2\n",
    "\n",
    "print(sum)"
   ]
  },
  {
   "cell_type": "markdown",
   "id": "12d6fc59",
   "metadata": {},
   "source": [
    "*Examples and rules from programiz*:\n",
    "\n",
    "Every set of dimensions must be compatible with the arrays to be broadcastable. A set of dimension lengths is compatible when\n",
    "1. one of them has a length of 1 or\n",
    "2. they are equal\n",
    "\n",
    "Broadcastable Shapes \n",
    "The folowing be arrray sizes:\n",
    "(6, 7) and (6, 7);  cause 7=7 then 6=6\n",
    "(6, 7) and (6, 1);  7 not equal to 1 but in either of them a 1 is present. and next set of dimension 6=6 \n",
    "(6, 7) and (7, );   Rightmost in both arrays is 7, 7=7 and then goes to check 6 but there is nothing to compare with in 2nd array. still compatible.\n",
    "\n",
    "*Two arrays need not have the same number of dimensions to be broadcastable.*\n",
    "\n",
    "Non-Broadcastable Shapes\n",
    "\n",
    "(6, 7) and (7, 6); 7 Not equal to 6 and 6 not equal to 7.\n",
    "(6, 7) and (6, ); Rightmost set are 7 in 1st and 6 in 2nd array not equal thus not compatible.\n"
   ]
  },
  {
   "cell_type": "markdown",
   "id": "a5745111",
   "metadata": {},
   "source": [
    "For the example code above, array1 is 1D array and size (3,) and array2 is (3,1). The rightmost i.e 3,1 from those arrays respectively are not equal but one of them is 1 so compatible.\n",
    "Next, make array1 to [[2, 3, 7]] a (1,3) size. This makes them compatible, now the addition of these make the result. In doing to array1 kind of expands to [[2, 3, 7], [2, 3, 7], [2, 3, 7]] (3, 3) size."
   ]
  }
 ],
 "metadata": {
  "kernelspec": {
   "display_name": "Python 3 (ipykernel)",
   "language": "python",
   "name": "python3"
  },
  "language_info": {
   "codemirror_mode": {
    "name": "ipython",
    "version": 3
   },
   "file_extension": ".py",
   "mimetype": "text/x-python",
   "name": "python",
   "nbconvert_exporter": "python",
   "pygments_lexer": "ipython3",
   "version": "3.11.5"
  }
 },
 "nbformat": 4,
 "nbformat_minor": 5
}
