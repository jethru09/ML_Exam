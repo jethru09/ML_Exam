{
 "cells": [
  {
   "cell_type": "code",
   "execution_count": 2,
   "id": "d9daad03",
   "metadata": {
    "scrolled": true
   },
   "outputs": [
    {
     "name": "stdout",
     "output_type": "stream",
     "text": [
      "Defaulting to user installation because normal site-packages is not writeable\n",
      "Requirement already satisfied: numpy in c:\\programdata\\anaconda3\\lib\\site-packages (1.24.3)\n"
     ]
    }
   ],
   "source": [
    "!pip install numpy"
   ]
  },
  {
   "cell_type": "code",
   "execution_count": 5,
   "id": "e5a386f4",
   "metadata": {},
   "outputs": [
    {
     "name": "stdout",
     "output_type": "stream",
     "text": [
      "Enter the number of rows (n): 3\n",
      "Enter the number of columns (k): 3\n",
      "Enter the number of columns (m): 3\n",
      "1 2 3\n",
      "1 2 3\n",
      "1 2 3\n",
      "3 2 1\n",
      "3 2 1\n",
      "3 2 1\n",
      "[[18, 12, 6], [18, 12, 6], [18, 12, 6]]\n",
      "1.6289995983242989\n",
      "[[18 12  6]\n",
      " [18 12  6]\n",
      " [18 12  6]]\n",
      "1.0349997319281101\n"
     ]
    }
   ],
   "source": [
    "import numpy as np\n",
    "import timeit\n",
    "\n",
    "n = int(input(\"Enter the number of rows (n): \"))\n",
    "k = int(input(\"Enter the number of columns (k): \"))\n",
    "m = int(input(\"Enter the number of columns (m): \"))\n",
    "\n",
    "# Initialize the matrix with zeros\n",
    "matrix1 = [[0 for _ in range(k)] for _ in range(n)]\n",
    "matrix2 = [[0 for _ in range(m)] for _ in range(k)]\n",
    "matrix3 = [[0 for _ in range(m)] for _ in range(n)]\n",
    "\n",
    "# Filling the matrix with input from the user\n",
    "for i in range(n):\n",
    "    matrix1[i] = list(map(int, input().split()))\n",
    "    \n",
    "for i in range(k):\n",
    "    matrix2[i] = list(map(int, input().split()))\n",
    "\n",
    "# Multiply the matrices\n",
    "t1 = timeit.default_timer()\n",
    "for i in range(n):\n",
    "    for j in range(m):\n",
    "        for a in range(k):\n",
    "            matrix3[i][j] += matrix1[i][a]*matrix2[a][j]\n",
    "t2 = timeit.default_timer()\n",
    "\n",
    "# Print the result matrix\n",
    "print(matrix3)\n",
    "print((t2-t1)*10000)\n",
    "\n",
    "M1 = np.array(matrix1)\n",
    "M2 = np.array(matrix2)\n",
    "\n",
    "# Multiply the matrices\n",
    "t3 = timeit.default_timer()\n",
    "result = np.dot(M1, M2)\n",
    "t4 = timeit.default_timer()\n",
    "\n",
    "# Print the result matrix\n",
    "print(result)\n",
    "print((t4-t3)*10000)\n"
   ]
  },
  {
   "cell_type": "markdown",
   "id": "bead528d",
   "metadata": {},
   "source": [
    "As we can see, it takes less time when used numpy np.dot(,) function than our normal matrix multiplication.\n",
    "The difference in the timmings will be more wide and significant as the size of matrix increases. This is because the Numpy uses optimised libraries hence the operations are highly optimised and faster in nature. \n",
    "\n",
    "Also there is the case of solving a matrix in $$O(n^{\\log_2 7})$$ which is faster than the $$O(n^3)$$ solution (1st method using 3 for loops nested)."
   ]
  },
  {
   "cell_type": "code",
   "execution_count": null,
   "id": "606117fa",
   "metadata": {},
   "outputs": [],
   "source": []
  }
 ],
 "metadata": {
  "kernelspec": {
   "display_name": "Python 3 (ipykernel)",
   "language": "python",
   "name": "python3"
  },
  "language_info": {
   "codemirror_mode": {
    "name": "ipython",
    "version": 3
   },
   "file_extension": ".py",
   "mimetype": "text/x-python",
   "name": "python",
   "nbconvert_exporter": "python",
   "pygments_lexer": "ipython3",
   "version": "3.11.5"
  }
 },
 "nbformat": 4,
 "nbformat_minor": 5
}
