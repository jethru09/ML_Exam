{
 "cells": [
  {
   "cell_type": "code",
   "execution_count": 7,
   "id": "3bfe9979",
   "metadata": {},
   "outputs": [
    {
     "name": "stdout",
     "output_type": "stream",
     "text": [
      "Enter elements: 2 3 4 1 5\n",
      "Index of minimum element in the array: 3\n",
      "Index obtained by both methods is same\n"
     ]
    }
   ],
   "source": [
    "import numpy as np\n",
    "\n",
    "def compute_argmin(array):\n",
    "    min_index = 0\n",
    "    min_value = array[0]\n",
    "    for i in range(1, len(array)):\n",
    "        if array[i] < min_value:\n",
    "            min_value = array[i]\n",
    "            min_index = i\n",
    "    return min_index\n",
    "\n",
    "# Create a numpy array\n",
    "arr = np.array(list(map(float, input(\"Enter elements: \").split())))\n",
    "\n",
    "# Compute argmin using the above function\n",
    "index = compute_argmin(arr)\n",
    "\n",
    "# Computing argmin using the built-in function in Numpy\n",
    "np_index = np.argmin(arr)\n",
    "\n",
    "# Check if both are equal\n",
    "print(\"Index of minimum element in the array:\",index)\n",
    "if(index == np_index):\n",
    "    print(\"Index obtained by both methods is same\")  # This will print True # As both calculate same value.\n"
   ]
  }
 ],
 "metadata": {
  "kernelspec": {
   "display_name": "Python 3 (ipykernel)",
   "language": "python",
   "name": "python3"
  },
  "language_info": {
   "codemirror_mode": {
    "name": "ipython",
    "version": 3
   },
   "file_extension": ".py",
   "mimetype": "text/x-python",
   "name": "python",
   "nbconvert_exporter": "python",
   "pygments_lexer": "ipython3",
   "version": "3.11.5"
  }
 },
 "nbformat": 4,
 "nbformat_minor": 5
}
