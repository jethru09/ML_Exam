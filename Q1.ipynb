{
 "cells": [
  {
   "cell_type": "markdown",
   "id": "73b51324",
   "metadata": {},
   "source": [
    "For a matrix multiplication between a (n, k) and (k, m) matrices, there will be nmk multiplications and nm(k-1) additions.\n",
    "\n",
    "Explanation:\n",
    "      There will be k multiplications and k-1 additions in matrix multiplication between a (n, k) and (k, m) matrices.\n",
    "the first row of the 1st matrix will be element wise multiplied to that of the elements in the 2nd matrix's first coloumn, and the resulting sum is the value of 1st element in the result (n, m) matrix. \n",
    "Hence for each element in the result matrix there will be k(no. of elements being multiplied) multiplications and k-1 additions between them, to get its value.\n",
    "\n",
    "implies a total of nmk multiplications and nm(k-1) additions for (n, m) matrix as there will be nm elements in it."
   ]
  }
 ],
 "metadata": {
  "kernelspec": {
   "display_name": "Python 3 (ipykernel)",
   "language": "python",
   "name": "python3"
  },
  "language_info": {
   "codemirror_mode": {
    "name": "ipython",
    "version": 3
   },
   "file_extension": ".py",
   "mimetype": "text/x-python",
   "name": "python",
   "nbconvert_exporter": "python",
   "pygments_lexer": "ipython3",
   "version": "3.11.5"
  }
 },
 "nbformat": 4,
 "nbformat_minor": 5
}
