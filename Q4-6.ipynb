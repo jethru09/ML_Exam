{
 "cells": [
  {
   "cell_type": "markdown",
   "id": "1e526084",
   "metadata": {},
   "source": [
    "The gradient of the given function with respect to x : $$2xy + \\cos(x)y^3$$\n",
    "The gradient of the given function with respect to y : $$x^2 + 3\\sin(x)y^2$$\n",
    "This is evaluated as follows using partial differentiation with respect to x and y:\n",
    "        ∂f/∂x  = y * 2x + cos(x) * y^3\n",
    "similarly ∂f/∂y = x^2 * 1 + sin(x) * 3 * y^2"
   ]
  },
  {
   "cell_type": "code",
   "execution_count": 15,
   "id": "8124d371",
   "metadata": {},
   "outputs": [
    {
     "name": "stdout",
     "output_type": "stream",
     "text": [
      "The gradient evaluated matches the analytical solution.\n"
     ]
    }
   ],
   "source": [
    "import jax.numpy as jnp\n",
    "from jax import grad, vmap, random\n",
    "\n",
    "# Define the function\n",
    "def f(x, y):\n",
    "  return y * x**2 + jnp.sin(x) * y**3\n",
    "\n",
    "# Compute the gradient\n",
    "grad_f = vmap(grad(f, argnums=(0,1)))\n",
    "\n",
    "key = random.PRNGKey(0)  # Create a random key for reproducibility\n",
    "x = random.uniform(key, (5,))  # Generate 5 random values for x\n",
    "y = random.uniform(key, (5,))  # Generate 5 random values for y\n",
    "\n",
    "# Measure values of the gradients wrt x, y\n",
    "grad_x, grad_y = grad_f(x, y)  \n",
    "\n",
    "# Measure values of the gradients evaluated beforehand\n",
    "analytical_value = jnp.array([2 * x * y + y**3 * jnp.cos(x), x**2 + 3 * jnp.sin(x)* y**2])\n",
    "\n",
    "# Compare the two gradients element-wise\n",
    "if jnp.allclose(grad_x, analytical_value[0]) and jnp.allclose(grad_y, analytical_value[1]):\n",
    "  print(\"The gradient evaluated matches the analytical solution.\")\n",
    "else:\n",
    "  print(\"The gradient evaluated does not match with the analytical solution.\")\n"
   ]
  },
  {
   "cell_type": "code",
   "execution_count": 14,
   "id": "bf474396",
   "metadata": {},
   "outputs": [
    {
     "name": "stdout",
     "output_type": "stream",
     "text": [
      "Analytical gradient wrt x : 2*x*y + y**3*cos(x)\n",
      "Analytical gradient wrt y : x**2 + 3*y**2*sin(x)\n"
     ]
    }
   ],
   "source": [
    "import sympy as sp\n",
    "import numpy as np , random\n",
    "\n",
    "x, y = sp.symbols('x y')\n",
    "f = y * x**2 + sp.sin(x) * y**3\n",
    "\n",
    "grad_f = sp.Matrix([f.diff(x), f.diff(y)])\n",
    "\n",
    "print(\"Analytical gradient wrt x :\", grad_f[0])\n",
    "print(\"Analytical gradient wrt y :\", grad_f[1])"
   ]
  },
  {
   "cell_type": "code",
   "execution_count": null,
   "id": "8cc7be62",
   "metadata": {},
   "outputs": [],
   "source": []
  }
 ],
 "metadata": {
  "kernelspec": {
   "display_name": "Python 3 (ipykernel)",
   "language": "python",
   "name": "python3"
  },
  "language_info": {
   "codemirror_mode": {
    "name": "ipython",
    "version": 3
   },
   "file_extension": ".py",
   "mimetype": "text/x-python",
   "name": "python",
   "nbconvert_exporter": "python",
   "pygments_lexer": "ipython3",
   "version": "3.11.5"
  }
 },
 "nbformat": 4,
 "nbformat_minor": 5
}
